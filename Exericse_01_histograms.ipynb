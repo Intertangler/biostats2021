{
  "nbformat": 4,
  "nbformat_minor": 0,
  "metadata": {
    "colab": {
      "name": "Exericse_01_histograms.ipynb",
      "provenance": [],
      "collapsed_sections": [],
      "authorship_tag": "ABX9TyNpWONJExlsSIB6+CvVl8iq",
      "include_colab_link": true
    },
    "kernelspec": {
      "name": "python3",
      "display_name": "Python 3"
    },
    "language_info": {
      "name": "python"
    }
  },
  "cells": [
    {
      "cell_type": "markdown",
      "metadata": {
        "id": "view-in-github",
        "colab_type": "text"
      },
      "source": [
        "<a href=\"https://colab.research.google.com/github/Intertangler/biostats2021/blob/main/Exericse_01_histograms.ipynb\" target=\"_parent\"><img src=\"https://colab.research.google.com/assets/colab-badge.svg\" alt=\"Open In Colab\"/></a>"
      ]
    },
    {
      "cell_type": "markdown",
      "metadata": {
        "id": "n9Knxt5rXZ8g"
      },
      "source": [
        "## programming review: importing a dataset\n",
        "Refamiliarize yourself with some basic Python programming concepts. Run the code below to automatically download a dataset to Google's server, where we will be able to play with it and get some basic practice visualizing."
      ]
    },
    {
      "cell_type": "markdown",
      "metadata": {
        "id": "IjGBA_uohpiB"
      },
      "source": [
        "# basic statistics on a 1D dataset\n",
        "\n",
        "Below we supply you with a basic dataset - let us say particle size measurements (nm) from a light scattering experiment. And using the numpy library you can see how it is possible to quickly determine basic statistical quantities - the mean, variance, and standard deviation."
      ]
    },
    {
      "cell_type": "code",
      "metadata": {
        "id": "-yHx0e8UxQ-h"
      },
      "source": [
        "size_data = [99.46541806087919, 97.46149769514834, 67.34871780358348, 100.90664248175126, 122.1084157370224, 82.83180970426238, 89.78552404031068, 110.66787727599984, 81.54277932900945, 76.05731033694585, 79.34596645009393, 82.28006400686928, 81.49843124034179, 90.05695752859754, 83.01613358046123, 102.71997743340398, 83.11711980001702, 73.64506718292758, 79.81112727770592, 86.2497184084741, 92.04636880670587, 86.7347282774985, 88.09477215791841, 89.52483863569358, 84.7814420327346, 95.54966755769289, 93.49755577677438, 72.81630342791962, 83.88177339149274, 97.57128653211288, 86.2105310551459, 81.0584699344639, 74.40846047739596, 82.19769932787604, 103.57167277787698, 92.0207135263867, 65.72289638417297, 83.06763624828528, 98.23396458037205, 81.47866384918758, 88.59672199649023, 56.95572546786636, 91.9300892438816, 77.95355769366033, 62.425555487389346, 97.90421348374065, 93.0969058119566, 67.14172420208317, 69.30792755623621, 103.80243996036828, 87.15368270672893, 71.66105406001557, 110.88255644969986, 83.15646863916366, 85.57057676092202, 88.83687526416863, 82.6612958571373, 92.19304415178468, 78.76265431369279, 77.93426918977534, 113.4512634863724, 99.07124158933361, 68.26466454508599, 89.59877413572083, 72.06616862009619, 84.74624696478402, 68.05034423745383, 87.04399129333704, 97.0678845264333, 76.21463641636643, 87.38024313563403, 111.37148688843982, 106.16768335901277, 67.06006044600575, 100.87579813257528, 83.34974864875524, 87.18723032749665, 91.51160150001662, 83.3030358899325, 101.86336690859845, 82.4389435424858, 66.27116199763228, 91.45981120968285, 87.99166324237447, 106.7760580544639, 91.28914795145505, 82.78286590039698, 80.22321990609649, 99.44652683990586]"
      ],
      "execution_count": 4,
      "outputs": []
    },
    {
      "cell_type": "code",
      "metadata": {
        "colab": {
          "base_uri": "https://localhost:8080/"
        },
        "id": "AY-jkB6zjC5F",
        "outputId": "a729b815-a840-46c6-fff9-c6092c85c901"
      },
      "source": [
        "import numpy as np\n",
        "np.mean(size_data), np.var(size_data), np.std(size_data)"
      ],
      "execution_count": 6,
      "outputs": [
        {
          "output_type": "execute_result",
          "data": {
            "text/plain": [
              "(86.90604728229458, 154.7031113087868, 12.437970546226051)"
            ]
          },
          "metadata": {},
          "execution_count": 6
        }
      ]
    },
    {
      "cell_type": "markdown",
      "metadata": {
        "id": "ABwUMZI0lPYy"
      },
      "source": [
        "# Problem 1.1\n",
        "Write your own functions to determine mean, variance, and standard deviation. Use your knowledge of the formulas comined with loops and programming concepts to build the function from scratch. Test your functions by comparing the results to the numpy functions above - they should be the same down to several decimal places."
      ]
    },
    {
      "cell_type": "code",
      "metadata": {
        "id": "tDxPWeOPM_cy"
      },
      "source": [
        "# your code here!"
      ],
      "execution_count": 9,
      "outputs": []
    },
    {
      "cell_type": "markdown",
      "metadata": {
        "id": "vpI2cG442pWM"
      },
      "source": [
        "# histograms \n",
        "Let's make a histogram of this data to visualize it. Important points to keep in mind:\n",
        "- this is 1D data, so frequency and size will be our axes of the histogram\n",
        "- the data is currently unstructured, and to build a histogram, data must be sorted into ranked bins \n",
        "- each bin should cover a particular size range e.g. from 20 to 40 nm, such that 24.6435 would land in the bin. "
      ]
    },
    {
      "cell_type": "code",
      "metadata": {
        "id": "PHQAMkG73IYb",
        "colab": {
          "base_uri": "https://localhost:8080/",
          "height": 279
        },
        "outputId": "82c79532-5aaa-469b-82f3-5a0d7c394e93"
      },
      "source": [
        "import matplotlib.pyplot as plt\n",
        "plt.hist(size_data, bins=\"auto\",density=True)\n",
        "plt.xlabel(\"size [nm]\")\n",
        "plt.ylabel(\"frequency\")\n",
        "plt.show()"
      ],
      "execution_count": 8,
      "outputs": [
        {
          "output_type": "display_data",
          "data": {
            "image/png": "[encoded data removed]",
            "text/plain": [
              "<Figure size 432x288 with 1 Axes>"
            ]
          },
          "metadata": {
            "needs_background": "light"
          }
        }
      ]
    },
    {
      "cell_type": "markdown",
      "metadata": {
        "id": "On_PepSK4py0"
      },
      "source": [
        "# Problem 1.2\n",
        "Create your own bins and remake the histogram. Define the bins such that there are a total of 30 evenly spaced bins that span the range of data - i.e. there should be at least one datapoint in both the first and last bin. How about if there are 8 bins? What do you think is the appropriate number of bins for this data and why?\n",
        "\n",
        "## hint - if you are having trouble\n",
        "A function that you can use to accomplish this task:\n",
        "https://numpy.org/doc/stable/reference/generated/numpy.linspace.html\n"
      ]
    },
    {
      "cell_type": "code",
      "metadata": {
        "id": "Tz8zj-Ox3VvM"
      },
      "source": [
        "newbins = \"your code here\""
      ],
      "execution_count": null,
      "outputs": []
    },
    {
      "cell_type": "code",
      "metadata": {
        "colab": {
          "base_uri": "https://localhost:8080/",
          "height": 279
        },
        "id": "JsRDeR446RNs",
        "outputId": "e7e997fe-d6b9-43af-a1f8-d63a59484413"
      },
      "source": [
        "import matplotlib.pyplot as plt\n",
        "plt.hist(my_data, bins=newbins,density=True)\n",
        "plt.xlabel(\"size [nm]\")\n",
        "plt.ylabel(\"frequency\")\n",
        "plt.show()"
      ],
      "execution_count": null,
      "outputs": [
        {
          "output_type": "display_data",
          "data": {
            "image/png": "[encoded data removed]",
            "text/plain": [
              "<Figure size 432x288 with 1 Axes>"
            ]
          },
          "metadata": {
            "needs_background": "light"
          }
        }
      ]
    },
    {
      "cell_type": "code",
      "metadata": {
        "id": "_io67YdS6eZL"
      },
      "source": [
        ""
      ],
      "execution_count": null,
      "outputs": []
    }
  ]
}