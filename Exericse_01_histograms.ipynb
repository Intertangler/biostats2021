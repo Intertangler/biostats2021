{
  "nbformat": 4,
  "nbformat_minor": 0,
  "metadata": {
    "colab": {
      "name": "Exericse_01_histograms.ipynb",
      "provenance": [],
      "collapsed_sections": [],
      "authorship_tag": "ABX9TyNEcSCLt+NVzaLv4VXqUxOO",
      "include_colab_link": true
    },
    "kernelspec": {
      "name": "python3",
      "display_name": "Python 3"
    },
    "language_info": {
      "name": "python"
    }
  },
  "cells": [
    {
      "cell_type": "markdown",
      "metadata": {
        "id": "view-in-github",
        "colab_type": "text"
      },
      "source": [
        "<a href=\"https://colab.research.google.com/github/Intertangler/biostats2021/blob/main/Exericse_01_histograms.ipynb\" target=\"_parent\"><img src=\"https://colab.research.google.com/assets/colab-badge.svg\" alt=\"Open In Colab\"/></a>"
      ]
    },
    {
      "cell_type": "markdown",
      "metadata": {
        "id": "u96bubwOVgJW"
      },
      "source": [
        "# let's get some practice with visualizing distributions\n",
        "\n",
        "\n",
        "Welcome to the first of multiple programming exercises designed to expose you to the most important concepts in statistics for the life sciences. We will be using Google Colab, a live programming environment running on Google's servers. This notebook is yours - you can (and should) save your notebook to Google drive. To make new blocks of code, hit the + Code icon at the top of the page. Hit ctrl-enter or shift-enter to execute a block of code."
      ]
    },
    {
      "cell_type": "markdown",
      "metadata": {
        "id": "n9Knxt5rXZ8g"
      },
      "source": [
        "## programming review: importing a dataset\n",
        "Refamiliarize yourself with some basic Python programming concepts. Run the code below to automatically download a dataset to Google's server, where we will be able to play with it and get some basic practice visualizing."
      ]
    },
    {
      "cell_type": "code",
      "metadata": {
        "colab": {
          "base_uri": "https://localhost:8080/"
        },
        "id": "VoSNt7C1V_lM",
        "outputId": "5c10cbd6-926e-453b-a6a0-54800122f06b"
      },
      "source": [
        "import os.path\n",
        "import sys\n",
        "from os import path\n",
        "import numpy as np # we will use this library a lot for handling data\n",
        "\n",
        "if path.exists(\"/content/bioinformatics_stockholm/\"):\n",
        "    pass\n",
        "else:\n",
        "    !git clone https://github.com/Intertangler/bioinformatics_stockholm\n",
        "sys.path.insert(0,'/content')\n",
        "data = np.loadtxt('/content/bioinformatics_stockholm/bioanalyzer_simple_data.txt')"
      ],
      "execution_count": null,
      "outputs": [
        {
          "output_type": "stream",
          "name": "stdout",
          "text": [
            "Cloning into 'bioinformatics_stockholm'...\n",
            "remote: Enumerating objects: 296, done.\u001b[K\n",
            "remote: Counting objects: 100% (217/217), done.\u001b[K\n",
            "remote: Compressing objects: 100% (191/191), done.\u001b[K\n",
            "remote: Total 296 (delta 102), reused 84 (delta 23), pack-reused 79\u001b[K\n",
            "Receiving objects: 100% (296/296), 42.81 MiB | 21.79 MiB/s, done.\n",
            "Resolving deltas: 100% (123/123), done.\n"
          ]
        }
      ]
    },
    {
      "cell_type": "markdown",
      "metadata": {
        "id": "OvlmjUcEdOAo"
      },
      "source": [
        "# review of working with array data in Python"
      ]
    },
    {
      "cell_type": "markdown",
      "metadata": {
        "id": "ElrUCWPBXzbP"
      },
      "source": [
        "Next try running some of the commands below. "
      ]
    },
    {
      "cell_type": "code",
      "metadata": {
        "colab": {
          "base_uri": "https://localhost:8080/"
        },
        "id": "tp_BKnhbXVo8",
        "outputId": "3343ff70-4cbe-461c-bba5-b5530c0d6a96"
      },
      "source": [
        "print(data)"
      ],
      "execution_count": null,
      "outputs": [
        {
          "output_type": "stream",
          "name": "stdout",
          "text": [
            "[[ 5.000000e+01  5.005000e+01  5.010000e+01 ...  2.348000e+02\n",
            "   2.348500e+02  2.349000e+02]\n",
            " [ 1.647034e-01  1.154175e-01  1.156158e-01 ... -6.406174e-01\n",
            "  -6.775284e-01 -7.417297e-01]]\n"
          ]
        }
      ]
    },
    {
      "cell_type": "code",
      "metadata": {
        "colab": {
          "base_uri": "https://localhost:8080/"
        },
        "id": "LF-4ygR2X5Ek",
        "outputId": "6741e335-9245-4932-84ce-410d87fe0221"
      },
      "source": [
        "np.shape(data) # use this function to see what dimensions our dataset is"
      ],
      "execution_count": null,
      "outputs": [
        {
          "output_type": "execute_result",
          "data": {
            "text/plain": [
              "(2, 3699)"
            ]
          },
          "metadata": {},
          "execution_count": 4
        }
      ]
    },
    {
      "cell_type": "markdown",
      "metadata": {
        "id": "k9pHxg5eavoA"
      },
      "source": [
        "From the np.shape() output, we see that it is a 2x3699 2D matrix essentially. In other words it is 2 rows, 3699 columns. Or another way to think of it is it is one array with two 3699-element-long 1D arrays."
      ]
    },
    {
      "cell_type": "markdown",
      "metadata": {
        "id": "fhVj7m1Ja_d3"
      },
      "source": [
        "Refamiliarize yourself with indexing. If you are still feeling shaking about it, remember that you can always experiment - i.e. find out what index corresponds to what."
      ]
    },
    {
      "cell_type": "code",
      "metadata": {
        "colab": {
          "base_uri": "https://localhost:8080/"
        },
        "id": "v-W_jbPFX6cb",
        "outputId": "acbdfe11-59e3-440c-a3c5-9b1009fb10ba"
      },
      "source": [
        "data[0] # use \"indexing\" to select particular subsets of the data"
      ],
      "execution_count": null,
      "outputs": [
        {
          "output_type": "execute_result",
          "data": {
            "text/plain": [
              "array([ 50.  ,  50.05,  50.1 , ..., 234.8 , 234.85, 234.9 ])"
            ]
          },
          "metadata": {},
          "execution_count": 5
        }
      ]
    },
    {
      "cell_type": "code",
      "metadata": {
        "colab": {
          "base_uri": "https://localhost:8080/"
        },
        "id": "HxX6dMdCX-Uz",
        "outputId": "5af0da54-5920-4ebd-8253-76ed54fce8e3"
      },
      "source": [
        "data[0][10] # use series indexing to select individual elements in subsets"
      ],
      "execution_count": null,
      "outputs": [
        {
          "output_type": "execute_result",
          "data": {
            "text/plain": [
              "50.5"
            ]
          },
          "metadata": {},
          "execution_count": 6
        }
      ]
    },
    {
      "cell_type": "code",
      "metadata": {
        "colab": {
          "base_uri": "https://localhost:8080/"
        },
        "id": "r27otlqiYCZb",
        "outputId": "dfe21854-d1c9-480f-ff41-bf4d54368238"
      },
      "source": [
        "zeroth_row = data[0]\n",
        "item_ten = zeroth_row[10]\n",
        "print(item_ten) # here we show the same thing as above in more steps"
      ],
      "execution_count": null,
      "outputs": [
        {
          "output_type": "stream",
          "name": "stdout",
          "text": [
            "50.5\n"
          ]
        }
      ]
    },
    {
      "cell_type": "markdown",
      "metadata": {
        "id": "xmNE336zcwTw"
      },
      "source": [
        "Now for a more tricky operation. Our data is essentially a 2x3699 matrix. And we know that we can pull out whole rows with the first set of indices as we did with data[0] or could do with data[1] to fetch the other of the two rows. But what if I asked you to fetch the column at position 581, for example. In other words I want a 2-element long stretch of both rows located at position 581 on the second axis of the matrix instead of the first - and note that the following only applies to numpy arrays/matrices and not lists."
      ]
    },
    {
      "cell_type": "code",
      "metadata": {
        "colab": {
          "base_uri": "https://localhost:8080/"
        },
        "id": "EvMVDEa6YepM",
        "outputId": "79fc8c03-bb3f-49e1-dadf-27a4d69c7da1"
      },
      "source": [
        "one_way_to_do_it = np.transpose(data)[581] \n",
        "simpler_way = data[:, 581]\n",
        "print(one_way_to_do_it, simpler_way)"
      ],
      "execution_count": null,
      "outputs": [
        {
          "output_type": "stream",
          "name": "stdout",
          "text": [
            "[ 7.905000e+01 -2.991486e-02] [ 7.905000e+01 -2.991486e-02]\n"
          ]
        }
      ]
    },
    {
      "cell_type": "markdown",
      "metadata": {
        "id": "NbV0-c9MeHP3"
      },
      "source": [
        "The convention of Row, Column is standard - it might help to know the mnemonic \"Roman Centurion\". In other words we know what to write because, in this case, we want all Rows (:) and Column 581 or data[:, 581]"
      ]
    },
    {
      "cell_type": "markdown",
      "metadata": {
        "id": "-crjOQPbeRN_"
      },
      "source": [
        "# visualize data with matplotlib\n",
        "Below, let's visualize a this data by plotting time and intensity points from. We will use the matplotlib libary which gives us either scatter and plot (line plot) functions that we can use to show the data. For supplying the x and y data to the plotting function, we need to use the correct indexing to slice the 2D data array."
      ]
    },
    {
      "cell_type": "code",
      "metadata": {
        "colab": {
          "base_uri": "https://localhost:8080/",
          "height": 296
        },
        "id": "Arbc8CukdIoN",
        "outputId": "71c7ecc0-8b7d-480a-a18d-85f33538c2f0"
      },
      "source": [
        "import matplotlib.pyplot as plt\n",
        "\n",
        "time  = data[0]\n",
        "intensity = data[1]\n",
        "plt.plot(time, intensity)\n",
        "plt.xlabel('time')\n",
        "plt.ylabel('intesity')\n"
      ],
      "execution_count": null,
      "outputs": [
        {
          "output_type": "execute_result",
          "data": {
            "text/plain": [
              "Text(0, 0.5, 'intesity')"
            ]
          },
          "metadata": {},
          "execution_count": 11
        },
        {
          "output_type": "display_data",
          "data": {
            "image/png": "[encoded data removed]",
            "text/plain": [
              "<Figure size 432x288 with 1 Axes>"
            ]
          },
          "metadata": {
            "needs_background": "light"
          }
        }
      ]
    },
    {
      "cell_type": "markdown",
      "metadata": {
        "id": "3XRmF_mCJTNc"
      },
      "source": [
        "# Optional exercise:\n",
        "\n",
        "Try extracting just one of the peaks in this data by plotting a limited range of values. What time value does the maximum point of this peak correspond to? Tip: you can use the numpy function argmax to figure this out - Google how to use it if you are unfamiliar with it."
      ]
    },
    {
      "cell_type": "code",
      "metadata": {
        "id": "_qpenlvTqRxQ",
        "colab": {
          "base_uri": "https://localhost:8080/",
          "height": 296
        },
        "outputId": "7e4dc606-c2c1-44ef-fb62-50acb4cdfa3f"
      },
      "source": [
        "time  = data[0][650:800] \n",
        "intensity = data[1][650:800]\n",
        "plt.scatter(time, intensity)\n",
        "plt.xlabel('time')\n",
        "plt.ylabel('intesity')\n",
        "\n",
        "print(time[np.argmax(intensity)])"
      ],
      "execution_count": null,
      "outputs": [
        {
          "output_type": "stream",
          "name": "stdout",
          "text": [
            "86.1\n"
          ]
        },
        {
          "output_type": "display_data",
          "data": {
            "image/png": "[encoded data removed]",
            "text/plain": [
              "<Figure size 432x288 with 1 Axes>"
            ]
          },
          "metadata": {
            "needs_background": "light"
          }
        }
      ]
    },
    {
      "cell_type": "markdown",
      "metadata": {
        "id": "IjGBA_uohpiB"
      },
      "source": [
        "# part 2 - basic statistics on a 1D dataset\n",
        "\n",
        "Below we supply you with a basic dataset - let us say particle size measurements (nm) from a light scattering experiment. And using the numpy library you can see how it is possible to quickly determine basic statistical quantities - the mean, variance, and standard deviation."
      ]
    },
    {
      "cell_type": "code",
      "metadata": {
        "id": "-yHx0e8UxQ-h"
      },
      "source": [
        "size_data = [99.46541806087919, 97.46149769514834, 67.34871780358348, 100.90664248175126, 122.1084157370224, 82.83180970426238, 89.78552404031068, 110.66787727599984, 81.54277932900945, 76.05731033694585, 79.34596645009393, 82.28006400686928, 81.49843124034179, 90.05695752859754, 83.01613358046123, 102.71997743340398, 83.11711980001702, 73.64506718292758, 79.81112727770592, 86.2497184084741, 92.04636880670587, 86.7347282774985, 88.09477215791841, 89.52483863569358, 84.7814420327346, 95.54966755769289, 93.49755577677438, 72.81630342791962, 83.88177339149274, 97.57128653211288, 86.2105310551459, 81.0584699344639, 74.40846047739596, 82.19769932787604, 103.57167277787698, 92.0207135263867, 65.72289638417297, 83.06763624828528, 98.23396458037205, 81.47866384918758, 88.59672199649023, 56.95572546786636, 91.9300892438816, 77.95355769366033, 62.425555487389346, 97.90421348374065, 93.0969058119566, 67.14172420208317, 69.30792755623621, 103.80243996036828, 87.15368270672893, 71.66105406001557, 110.88255644969986, 83.15646863916366, 85.57057676092202, 88.83687526416863, 82.6612958571373, 92.19304415178468, 78.76265431369279, 77.93426918977534, 113.4512634863724, 99.07124158933361, 68.26466454508599, 89.59877413572083, 72.06616862009619, 84.74624696478402, 68.05034423745383, 87.04399129333704, 97.0678845264333, 76.21463641636643, 87.38024313563403, 111.37148688843982, 106.16768335901277, 67.06006044600575, 100.87579813257528, 83.34974864875524, 87.18723032749665, 91.51160150001662, 83.3030358899325, 101.86336690859845, 82.4389435424858, 66.27116199763228, 91.45981120968285, 87.99166324237447, 106.7760580544639, 91.28914795145505, 82.78286590039698, 80.22321990609649, 99.44652683990586]"
      ],
      "execution_count": null,
      "outputs": []
    },
    {
      "cell_type": "code",
      "metadata": {
        "colab": {
          "base_uri": "https://localhost:8080/"
        },
        "id": "AY-jkB6zjC5F",
        "outputId": "3d9d0c4a-d96e-448c-e29d-f8890185523d"
      },
      "source": [
        "np.mean(size_data), np.var(size_data), np.std(size_data)"
      ],
      "execution_count": null,
      "outputs": [
        {
          "output_type": "execute_result",
          "data": {
            "text/plain": [
              "(86.90604728229458, 154.7031113087868, 12.437970546226051)"
            ]
          },
          "metadata": {},
          "execution_count": 27
        }
      ]
    },
    {
      "cell_type": "markdown",
      "metadata": {
        "id": "ABwUMZI0lPYy"
      },
      "source": [
        "# Problem 1.1\n",
        "Write your own functions to determine mean, variance, and standard deviation. Use your knowledge of the formulas comined with loops and programming concepts to build the function from scratch. Test your functions by comparing the results to the numpy functions above - they should be the same down to several decimal places."
      ]
    },
    {
      "cell_type": "code",
      "metadata": {
        "id": "DrWYs0Vfj2q0",
        "colab": {
          "base_uri": "https://localhost:8080/"
        },
        "outputId": "e2006d84-20a9-45e7-f66e-9cc3a06e1e32"
      },
      "source": [
        "def mean(data):\n",
        "  sum = 0\n",
        "  for i in data:\n",
        "    sum += i\n",
        "  mean = sum/len(data)\n",
        "  return mean\n",
        "\n",
        "def var(my_data):\n",
        "  sum = 0\n",
        "  xbar = mean(my_data)\n",
        "  for x in my_data:   \n",
        "    sum += (x - xbar)**2\n",
        "  my_var = sum/len(my_data)\n",
        "  return my_var\n",
        "\n",
        "def std(my_data):\n",
        "  my_var = var(my_data)\n",
        "  my_std = np.sqrt(my_var)\n",
        "  return my_std\n",
        "\n",
        "print(var(size_data),mean(size_data), std(size_data))"
      ],
      "execution_count": null,
      "outputs": [
        {
          "output_type": "stream",
          "name": "stdout",
          "text": [
            "154.70311130878673 86.90604728229462 12.43797054622605\n"
          ]
        }
      ]
    },
    {
      "cell_type": "markdown",
      "metadata": {
        "id": "vpI2cG442pWM"
      },
      "source": [
        "# histograms \n",
        "Let's make a histogram of this data to visualize it. Important points to keep in mind:\n",
        "- this is 1D data, so frequency and size will be our axes of the histogram\n",
        "- the data is currently unstructured, and to build a histogram, data must be sorted into ranked bins \n",
        "- each bin should cover a particular size range e.g. from 20 to 40 nm, such that 24.6435 would land in the bin. "
      ]
    },
    {
      "cell_type": "code",
      "metadata": {
        "id": "PHQAMkG73IYb",
        "colab": {
          "base_uri": "https://localhost:8080/",
          "height": 279
        },
        "outputId": "290dfa36-c91c-43a7-e336-c1a093973e42"
      },
      "source": [
        "import matplotlib.pyplot as plt\n",
        "plt.hist(my_data, bins=\"auto\",density=True)\n",
        "plt.xlabel(\"size [nm]\")\n",
        "plt.ylabel(\"frequency\")\n",
        "plt.show()"
      ],
      "execution_count": null,
      "outputs": [
        {
          "output_type": "display_data",
          "data": {
            "image/png": "[encoded data removed]",
            "text/plain": [
              "<Figure size 432x288 with 1 Axes>"
            ]
          },
          "metadata": {
            "needs_background": "light"
          }
        }
      ]
    },
    {
      "cell_type": "markdown",
      "metadata": {
        "id": "On_PepSK4py0"
      },
      "source": [
        "# Problem 1.2\n",
        "Create your own bins and remake the histogram. Define the bins such that there are a total of 30 evenly spaced bins that span the range of data - i.e. there should be at least one datapoint in both the first and last bin. How about if there are 8 bins? What do you think is the appropriate number of bins for this data and why?"
      ]
    },
    {
      "cell_type": "code",
      "metadata": {
        "id": "Tz8zj-Ox3VvM"
      },
      "source": [
        "newbins = np.linspace(np.min(size_data), np.max(size_data), 30)"
      ],
      "execution_count": null,
      "outputs": []
    },
    {
      "cell_type": "code",
      "metadata": {
        "colab": {
          "base_uri": "https://localhost:8080/",
          "height": 279
        },
        "id": "JsRDeR446RNs",
        "outputId": "e7e997fe-d6b9-43af-a1f8-d63a59484413"
      },
      "source": [
        "import matplotlib.pyplot as plt\n",
        "plt.hist(my_data, bins=newbins,density=True)\n",
        "plt.xlabel(\"size [nm]\")\n",
        "plt.ylabel(\"frequency\")\n",
        "plt.show()"
      ],
      "execution_count": null,
      "outputs": [
        {
          "output_type": "display_data",
          "data": {
            "image/png": "[encoded data removed]",
            "text/plain": [
              "<Figure size 432x288 with 1 Axes>"
            ]
          },
          "metadata": {
            "needs_background": "light"
          }
        }
      ]
    },
    {
      "cell_type": "code",
      "metadata": {
        "id": "_io67YdS6eZL"
      },
      "source": [
        ""
      ],
      "execution_count": null,
      "outputs": []
    }
  ]
}