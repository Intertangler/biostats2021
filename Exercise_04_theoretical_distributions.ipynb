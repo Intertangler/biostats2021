{
  "nbformat": 4,
  "nbformat_minor": 0,
  "metadata": {
    "colab": {
      "name": "Exercise_04_theoretical_distributions.ipynb",
      "provenance": [],
      "collapsed_sections": [],
      "authorship_tag": "ABX9TyPkkCW4J0TGnLbOkasn8NFW",
      "include_colab_link": true
    },
    "kernelspec": {
      "name": "python3",
      "display_name": "Python 3"
    },
    "language_info": {
      "name": "python"
    }
  },
  "cells": [
    {
      "cell_type": "markdown",
      "metadata": {
        "id": "view-in-github",
        "colab_type": "text"
      },
      "source": [
        "<a href=\"https://colab.research.google.com/github/Intertangler/biostats2021/blob/main/Exercise_04_theoretical_distributions.ipynb\" target=\"_parent\"><img src=\"https://colab.research.google.com/assets/colab-badge.svg\" alt=\"Open In Colab\"/></a>"
      ]
    },
    {
      "cell_type": "markdown",
      "metadata": {
        "id": "tUjkasGUQuT_"
      },
      "source": [
        "Given the formula for the probability density function (PDF) for a particular distribution, let's make sure we know how to plot it. Like any function, e.g. y = x^2, we can make a plot by creating a range of values and plot the value of our function at each point. In this case, we make a function for the binomial distribution below - its output is the probability for a given set of inputs n, k, and p. \n",
        "\n",
        "Plot the distribution using this function using, for example, n=10 trials, and p = 0.5 for a range of different successes. I.e. we want to know the probability distribution of the number of heads we could get for ten coin flips.\n",
        "\n",
        "\n",
        "The binomial distribution:\n",
        "\n",
        "$P(k, p, n) = p^k (1-p)^{n - k} C_ n^k$\n",
        "\n",
        "where \n",
        "$ C_ n^k = \\frac{n!}{k!(n-k)!}$\n",
        "\n",
        "for n trials, k successes, and a per-trial probability p"
      ]
    },
    {
      "cell_type": "code",
      "metadata": {
        "id": "ANqs4D2cRUpG"
      },
      "source": [
        "# libraries\n",
        "import random\n",
        "import math\n",
        "import operator as op\n",
        "from functools import reduce\n",
        "import matplotlib.pyplot as plt\n",
        "import numpy as np\n",
        "import scipy.stats as stats\n",
        "\n",
        "def nck(n, k):\n",
        "    k = min(k, n-k)\n",
        "    numer = reduce(op.mul, range(n, n-k, -1), 1)\n",
        "    denom = reduce(op.mul, range(1, k+1), 1)\n",
        "    return numer // denom  # or / in Python 2\n",
        "\n",
        "def binomial_probability(p,k,n):\n",
        "  prob = p**k*(1-p)**(n-k)*nck(n, k)\n",
        "  return prob    "
      ],
      "execution_count": 11,
      "outputs": []
    },
    {
      "cell_type": "code",
      "metadata": {
        "colab": {
          "base_uri": "https://localhost:8080/",
          "height": 282
        },
        "id": "NSaAbdHPdyO0",
        "outputId": "a336e9f5-020e-4d4e-c321-ecda1aed4d5c"
      },
      "source": [
        "probs = []\n",
        "n_trials = 10\n",
        "p = .5\n",
        "\n",
        "# your code here\n",
        "\n",
        "plt.scatter(list(range(0, n_trials)), probs)"
      ],
      "execution_count": 24,
      "outputs": [
        {
          "output_type": "execute_result",
          "data": {
            "text/plain": [
              "<matplotlib.collections.PathCollection at 0x7f9ba252bf50>"
            ]
          },
          "metadata": {},
          "execution_count": 24
        },
        {
          "output_type": "display_data",
          "data": {
            "image/png": "[encoded data removed]",
            "text/plain": [
              "<Figure size 432x288 with 1 Axes>"
            ]
          },
          "metadata": {
            "needs_background": "light"
          }
        }
      ]
    },
    {
      "cell_type": "code",
      "metadata": {
        "id": "CPOU6VzdfXlb"
      },
      "source": [
        ""
      ],
      "execution_count": null,
      "outputs": []
    }
  ]
}