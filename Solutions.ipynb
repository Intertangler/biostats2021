{
  "nbformat": 4,
  "nbformat_minor": 0,
  "metadata": {
    "colab": {
      "name": "Solutions.ipynb",
      "provenance": [],
      "collapsed_sections": [],
      "authorship_tag": "ABX9TyPYqT3E5PgNCWaDq1YUT5dk",
      "include_colab_link": true
    },
    "kernelspec": {
      "name": "python3",
      "display_name": "Python 3"
    },
    "language_info": {
      "name": "python"
    }
  },
  "cells": [
    {
      "cell_type": "markdown",
      "metadata": {
        "id": "view-in-github",
        "colab_type": "text"
      },
      "source": [
        "<a href=\"https://colab.research.google.com/github/Intertangler/biostats2021/blob/main/Solutions.ipynb\" target=\"_parent\"><img src=\"https://colab.research.google.com/assets/colab-badge.svg\" alt=\"Open In Colab\"/></a>"
      ]
    },
    {
      "cell_type": "code",
      "metadata": {
        "id": "Dv7P1tRV_JR7"
      },
      "source": [
        "def mean(data):\n",
        "  sum = 0\n",
        "  for i in range(0, len(data)):\n",
        "    sum = sum + data[i]\n",
        "  my_mean = sum/len(data)\n",
        "  return my_mean\n",
        "\n",
        "def var(data):\n",
        "  sum = 0\n",
        "  my_mean = mean(data)\n",
        "  for i in range(0, len(data)):\n",
        "    sum = sum + (data[i] - my_mean)**2\n",
        "  my_var = sum/len(data)\n",
        "  return my_var\n",
        "\n",
        "def std(data):\n",
        "  my_std = math.sqrt(var(data))\n",
        "  return my_std"
      ],
      "execution_count": null,
      "outputs": []
    },
    {
      "cell_type": "code",
      "metadata": {
        "id": "uonqHvvElBqP"
      },
      "source": [
        "import math\n",
        "def cov(X, Y):\n",
        "  mean_X = mean(X)\n",
        "  mean_Y = mean(Y)\n",
        "  sum = 0\n",
        "  for i in range(0, len(X)):\n",
        "    x = X[i]\n",
        "    y = Y[i]\n",
        "    sum += (x - mean_X)*(y - mean_Y)\n",
        "  cov = sum/len(X)\n",
        "  return cov\n",
        "\n",
        "def corr(X, Y):\n",
        "  std_X = std(X)\n",
        "  std_Y = std(Y)\n",
        "  corr = cov(X, Y)/(std_X*std_Y)\n",
        "  return corr"
      ],
      "execution_count": null,
      "outputs": []
    },
    {
      "cell_type": "code",
      "metadata": {
        "id": "29FPOsK7KKxl"
      },
      "source": [
        "## 4.1\n",
        "probs = []\n",
        "n_trials = 133\n",
        "p = .5\n",
        "\n",
        "for k in range(0,n_trials):\n",
        "  probs += [binomial_probability(p,k,n_trials)]\n",
        "\n",
        "plt.scatter(list(range(0, n_trials)), probs)"
      ],
      "execution_count": null,
      "outputs": []
    },
    {
      "cell_type": "code",
      "metadata": {
        "id": "dZOWYDtfJ7fh"
      },
      "source": [
        "## 4.2\n",
        "\n",
        "# series analytical solution\n",
        "tot = 0\n",
        "p = 0.3\n",
        "\n",
        "for k in range(10,16):\n",
        "  tot = tot + binomial_probability(p,k,15)\n",
        "tot\n",
        "\n",
        "master = 0 \n",
        "experiments = 1000000\n",
        "trials = 15\n",
        "for experiment in range(experiments):\n",
        "  count = 0\n",
        "  for trial in range(0, trials):\n",
        "    if random.random() < 0.3:\n",
        "      count += 1\n",
        "  if count >= 10:\n",
        "    master += 1\n",
        "master = float(master)/float(experiments) \n",
        "master"
      ],
      "execution_count": null,
      "outputs": []
    },
    {
      "cell_type": "code",
      "metadata": {
        "id": "V2vhaN_KJ1S7"
      },
      "source": [
        "## 4.3\n",
        "\n",
        "import math\n",
        "def poisson(k, rate, interval):\n",
        "  p_k_successes = (rate*interval)**k*math.exp(-1*rate*interval)/math.factorial(k)\n",
        "  return p_k_successes\n",
        "\n",
        "import matplotlib.pyplot as plt\n",
        "k_range = list(range(0,100))\n",
        "rate = 0.56\n",
        "interval = 60\n",
        "probs = []\n",
        "for k in k_range:\n",
        "  prob = poisson(k, rate, interval)\n",
        "  probs += [prob]\n",
        "\n",
        "plt.plot(k_range, probs)\n",
        "plt.xlabel(\"k\")\n",
        "plt.ylabel(\"P\")"
      ],
      "execution_count": null,
      "outputs": []
    }
  ]
}