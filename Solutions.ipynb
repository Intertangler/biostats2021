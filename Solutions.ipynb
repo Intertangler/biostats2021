{
  "nbformat": 4,
  "nbformat_minor": 0,
  "metadata": {
    "colab": {
      "name": "Solutions.ipynb",
      "provenance": [],
      "collapsed_sections": [],
      "authorship_tag": "ABX9TyPvz7IDaqKhvAdLS9qwSwSM",
      "include_colab_link": true
    },
    "kernelspec": {
      "name": "python3",
      "display_name": "Python 3"
    },
    "language_info": {
      "name": "python"
    }
  },
  "cells": [
    {
      "cell_type": "markdown",
      "metadata": {
        "id": "view-in-github",
        "colab_type": "text"
      },
      "source": [
        "<a href=\"https://colab.research.google.com/github/Intertangler/biostats2021/blob/main/Solutions.ipynb\" target=\"_parent\"><img src=\"https://colab.research.google.com/assets/colab-badge.svg\" alt=\"Open In Colab\"/></a>"
      ]
    },
    {
      "cell_type": "code",
      "metadata": {
        "id": "Dv7P1tRV_JR7"
      },
      "source": [
        "def mean(data):\n",
        "  sum = 0\n",
        "  for i in range(0, len(data)):\n",
        "    sum = sum + data[i]\n",
        "  my_mean = sum/len(data)\n",
        "  return my_mean\n",
        "\n",
        "def var(data):\n",
        "  sum = 0\n",
        "  my_mean = mean(data)\n",
        "  for i in range(0, len(data)):\n",
        "    sum = sum + (data[i] - my_mean)**2\n",
        "  my_var = sum/len(data)\n",
        "  return my_var\n",
        "\n",
        "def std(data):\n",
        "  my_std = math.sqrt(var(data))\n",
        "  return my_std"
      ],
      "execution_count": null,
      "outputs": []
    },
    {
      "cell_type": "code",
      "metadata": {
        "id": "uonqHvvElBqP"
      },
      "source": [
        "import math\n",
        "def cov(X, Y):\n",
        "  mean_X = mean(X)\n",
        "  mean_Y = mean(Y)\n",
        "  sum = 0\n",
        "  for i in range(0, len(X)):\n",
        "    x = X[i]\n",
        "    y = Y[i]\n",
        "    sum += (x - mean_X)*(y - mean_Y)\n",
        "  cov = sum/len(X)\n",
        "  return cov\n",
        "\n",
        "def corr(X, Y):\n",
        "  std_X = std(X)\n",
        "  std_Y = std(Y)\n",
        "  corr = cov(X, Y)/(std_X*std_Y)\n",
        "  return corr"
      ],
      "execution_count": null,
      "outputs": []
    }
  ]
}