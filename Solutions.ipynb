{
  "nbformat": 4,
  "nbformat_minor": 0,
  "metadata": {
    "colab": {
      "name": "Solutions.ipynb",
      "provenance": [],
      "authorship_tag": "ABX9TyOPPtwwFmqutIwUnyxE/C27",
      "include_colab_link": true
    },
    "kernelspec": {
      "name": "python3",
      "display_name": "Python 3"
    },
    "language_info": {
      "name": "python"
    }
  },
  "cells": [
    {
      "cell_type": "markdown",
      "metadata": {
        "id": "view-in-github",
        "colab_type": "text"
      },
      "source": [
        "<a href=\"https://colab.research.google.com/github/Intertangler/biostats2021/blob/main/Solutions.ipynb\" target=\"_parent\"><img src=\"https://colab.research.google.com/assets/colab-badge.svg\" alt=\"Open In Colab\"/></a>"
      ]
    },
    {
      "cell_type": "code",
      "metadata": {
        "id": "Dv7P1tRV_JR7"
      },
      "source": [
        "def mean(data):\n",
        "  sum = 0\n",
        "  for i in range(0, len(data)):\n",
        "    sum = sum + data[i]\n",
        "  my_mean = sum/len(data)\n",
        "  return my_mean\n",
        "\n",
        "def var(data):\n",
        "  sum = 0\n",
        "  my_mean = mean(data)\n",
        "  for i in range(0, len(data)):\n",
        "    sum = sum + (data[i] - my_mean)**2\n",
        "  my_var = sum/len(data)\n",
        "  return my_var\n",
        "\n",
        "def std(data):\n",
        "  my_std = math.sqrt(var(data))\n",
        "  return my_std"
      ],
      "execution_count": null,
      "outputs": []
    }
  ]
}