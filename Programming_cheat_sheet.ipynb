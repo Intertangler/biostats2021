{
  "nbformat": 4,
  "nbformat_minor": 0,
  "metadata": {
    "colab": {
      "name": "Programming_cheat_sheet.ipynb",
      "provenance": [],
      "collapsed_sections": [],
      "toc_visible": true,
      "authorship_tag": "ABX9TyMBR7+nM+ebxPvriSFHcxsy",
      "include_colab_link": true
    },
    "kernelspec": {
      "name": "python3",
      "display_name": "Python 3"
    }
  },
  "cells": [
    {
      "cell_type": "markdown",
      "metadata": {
        "id": "view-in-github",
        "colab_type": "text"
      },
      "source": [
        "<a href=\"https://colab.research.google.com/github/Intertangler/biostats2021/blob/main/Programming_cheat_sheet.ipynb\" target=\"_parent\"><img src=\"https://colab.research.google.com/assets/colab-badge.svg\" alt=\"Open In Colab\"/></a>"
      ]
    },
    {
      "cell_type": "markdown",
      "metadata": {
        "id": "eqHd2V_FFRXd"
      },
      "source": [
        "# basics"
      ]
    },
    {
      "cell_type": "markdown",
      "metadata": {
        "id": "JNiL7oagFASl"
      },
      "source": [
        "Getting information about functions:"
      ]
    },
    {
      "cell_type": "code",
      "metadata": {
        "id": "kpYVtHv7FEX4"
      },
      "source": [
        "help(str)"
      ],
      "execution_count": null,
      "outputs": []
    },
    {
      "cell_type": "markdown",
      "metadata": {
        "id": "Z598MSBQDunX"
      },
      "source": [
        "Declaring variables of different types"
      ]
    },
    {
      "cell_type": "code",
      "metadata": {
        "colab": {
          "base_uri": "https://localhost:8080/"
        },
        "id": "t17rCtlqEjOw",
        "outputId": "f2264d51-e770-411d-bcd7-fe47f453da1c"
      },
      "source": [
        "# checking what type it is:\n",
        "mystery_variable = 3/6\n",
        "type(mystery_variable)"
      ],
      "execution_count": null,
      "outputs": [
        {
          "output_type": "execute_result",
          "data": {
            "text/plain": [
              "float"
            ]
          },
          "metadata": {
            "tags": []
          },
          "execution_count": 64
        }
      ]
    },
    {
      "cell_type": "code",
      "metadata": {
        "colab": {
          "base_uri": "https://localhost:8080/"
        },
        "id": "-Q5EfrE5Dhd8",
        "outputId": "2c3b681a-9118-4f8f-a093-7de49dc9de5c"
      },
      "source": [
        "# basic variable types\n",
        "my_integer1 = int(4.)\n",
        "my_integer2 = 3\n",
        "my_float1 = 3.\n",
        "my_float2 = float(3)\n",
        "my_string1 = \"\"\n",
        "my_string2 = \"hello\"\n",
        "my_string3 = str(3)\n",
        "my_string4 = 'asdfsdf'\n",
        "print(my_integer1,my_integer2)\n",
        "print(my_float1, my_float2)\n",
        "print(my_string1, my_string2, my_string3, my_string4)"
      ],
      "execution_count": null,
      "outputs": [
        {
          "output_type": "stream",
          "text": [
            "4 3\n",
            "3.0 3.0\n",
            " hello 3 asdfsdf\n"
          ],
          "name": "stdout"
        }
      ]
    },
    {
      "cell_type": "code",
      "metadata": {
        "colab": {
          "base_uri": "https://localhost:8080/"
        },
        "id": "3AiH-nB4EPgM",
        "outputId": "f7ba677f-e471-4837-8f56-a7e58832348d"
      },
      "source": [
        "# lists\n",
        "my_list1 = []\n",
        "my_list2 = [1,2,3,4]\n",
        "my_list3 = [\"a\",\"b\", \"c\"]\n",
        "my_list4 = list([1,2,3])\n",
        "my_list5 = list(\"abc\")\n",
        "print(my_list1, my_list2, my_list3, my_list4, my_list5)"
      ],
      "execution_count": null,
      "outputs": [
        {
          "output_type": "stream",
          "text": [
            "[] [1, 2, 3, 4] ['a', 'b', 'c'] [1, 2, 3] ['a', 'b', 'c']\n"
          ],
          "name": "stdout"
        }
      ]
    },
    {
      "cell_type": "code",
      "metadata": {
        "colab": {
          "base_uri": "https://localhost:8080/"
        },
        "id": "3OoPoKVUBkIb",
        "outputId": "05399ca4-600d-400b-c273-02d86d84b8a4"
      },
      "source": [
        "# list of lists\n",
        "my_list1 = [ [1,2,3], [6,7,8]  ]\n",
        "my_list1[0]"
      ],
      "execution_count": null,
      "outputs": [
        {
          "output_type": "execute_result",
          "data": {
            "text/plain": [
              "[1, 2, 3]"
            ]
          },
          "metadata": {
            "tags": []
          },
          "execution_count": 68
        }
      ]
    },
    {
      "cell_type": "code",
      "metadata": {
        "colab": {
          "base_uri": "https://localhost:8080/"
        },
        "id": "MUqJwJ9-Eaww",
        "outputId": "05b5fd73-4dab-4af5-b415-9b27597c8bff"
      },
      "source": [
        "# numpy arrays\n",
        "import numpy as np\n",
        "my_arr1 = np.array([1,2,3])\n",
        "my_arr2 = np.array([\"a\",\"b\",\"c\"])\n",
        "my_arr3 = np.zeros(5)\n",
        "my_arr4 = np.ones(5)\n",
        "print(my_arr1, my_arr2, my_arr3, my_arr4)\n"
      ],
      "execution_count": null,
      "outputs": [
        {
          "output_type": "stream",
          "text": [
            "[1 2 3] ['a' 'b' 'c'] [0. 0. 0. 0. 0.] [1. 1. 1. 1. 1.]\n"
          ],
          "name": "stdout"
        }
      ]
    },
    {
      "cell_type": "code",
      "metadata": {
        "colab": {
          "base_uri": "https://localhost:8080/"
        },
        "id": "gGBChS8XFmZv",
        "outputId": "d0f3291c-1a68-4cad-f9de-93de2a99609c"
      },
      "source": [
        "# 2D numpy arrays\n",
        "my_mat1 = np.array([[1,2,3],[6,7,8]])\n",
        "my_mat2 = np.zeros((3,5))\n",
        "my_mat3 = np.ones((5,4))\n",
        "print(my_mat1)\n",
        "print(my_mat2)\n",
        "print(my_mat3)\n"
      ],
      "execution_count": null,
      "outputs": [
        {
          "output_type": "stream",
          "text": [
            "[[1 2 3]\n",
            " [6 7 8]]\n",
            "[[0. 0. 0. 0. 0.]\n",
            " [0. 0. 0. 0. 0.]\n",
            " [0. 0. 0. 0. 0.]]\n",
            "[[1. 1. 1. 1.]\n",
            " [1. 1. 1. 1.]\n",
            " [1. 1. 1. 1.]\n",
            " [1. 1. 1. 1.]\n",
            " [1. 1. 1. 1.]]\n"
          ],
          "name": "stdout"
        }
      ]
    },
    {
      "cell_type": "code",
      "metadata": {
        "colab": {
          "base_uri": "https://localhost:8080/",
          "height": 286
        },
        "id": "O9ziiskmKn4X",
        "outputId": "96d77b1d-3929-40af-9810-fac3e4c3c4ad"
      },
      "source": [
        "# visualizing matrices\n",
        "import matplotlib.pyplot as plt\n",
        "plt.imshow(my_mat1, cmap=\"Greys\")"
      ],
      "execution_count": null,
      "outputs": [
        {
          "output_type": "execute_result",
          "data": {
            "text/plain": [
              "<matplotlib.image.AxesImage at 0x7fbf3575e7d0>"
            ]
          },
          "metadata": {
            "tags": []
          },
          "execution_count": 77
        },
        {
          "output_type": "display_data",
          "data": {
            "image/png": "[encoded data removed]",
            "text/plain": [
              "<Figure size 432x288 with 1 Axes>"
            ]
          },
          "metadata": {
            "tags": [],
            "needs_background": "light"
          }
        }
      ]
    },
    {
      "cell_type": "markdown",
      "metadata": {
        "id": "yQMsH4doGHqP"
      },
      "source": [
        "# conditionals (if-statements)"
      ]
    },
    {
      "cell_type": "code",
      "metadata": {
        "colab": {
          "base_uri": "https://localhost:8080/"
        },
        "id": "iCbtY2gfGCqV",
        "outputId": "3ce58167-7a09-46db-f82d-13eead2d3564"
      },
      "source": [
        "# simple case\n",
        "a = 1\n",
        "if a == 1:\n",
        "  print(\"ok\")\n"
      ],
      "execution_count": null,
      "outputs": [
        {
          "output_type": "stream",
          "text": [
            "ok\n"
          ],
          "name": "stdout"
        }
      ]
    },
    {
      "cell_type": "code",
      "metadata": {
        "colab": {
          "base_uri": "https://localhost:8080/"
        },
        "id": "UeQb3rBHDx3P",
        "outputId": "86ecc97f-284d-4166-96b2-93b7dd695093"
      },
      "source": [
        "# using the not-equals operator\n",
        "if a != 10:\n",
        "  print(\"a is not equal to 10\")"
      ],
      "execution_count": null,
      "outputs": [
        {
          "output_type": "stream",
          "text": [
            "a is not equal to 10\n"
          ],
          "name": "stdout"
        }
      ]
    },
    {
      "cell_type": "code",
      "metadata": {
        "id": "LBd5LzcQGQnD"
      },
      "source": [
        "# simple case but with else clause"
      ],
      "execution_count": null,
      "outputs": []
    },
    {
      "cell_type": "code",
      "metadata": {
        "colab": {
          "base_uri": "https://localhost:8080/"
        },
        "id": "MdzpfREsGYmT",
        "outputId": "7cb1d6ca-0708-4654-d3e5-9485c96273f4"
      },
      "source": [
        "a = 1\n",
        "if a == 3:\n",
        "  print(b)\n",
        "else:\n",
        "  print(\"hello\")  "
      ],
      "execution_count": null,
      "outputs": [
        {
          "output_type": "stream",
          "text": [
            "hello\n"
          ],
          "name": "stdout"
        }
      ]
    },
    {
      "cell_type": "code",
      "metadata": {
        "colab": {
          "base_uri": "https://localhost:8080/"
        },
        "id": "__L3u5OOH4Kn",
        "outputId": "f6614f59-631b-44f3-83f6-5155562e0397"
      },
      "source": [
        "# multiple elif clauses\n",
        "if a < 0:\n",
        "  print(\"a is negative\")\n",
        "elif a == 0:\n",
        "  print(\"a is zero\")\n",
        "elif a < 5:\n",
        "  print(\"a is between 2 and 5\")\n",
        "else:\n",
        "  print(\"a is something else\")"
      ],
      "execution_count": null,
      "outputs": [
        {
          "output_type": "stream",
          "text": [
            "a is between 2 and 5\n"
          ],
          "name": "stdout"
        }
      ]
    },
    {
      "cell_type": "code",
      "metadata": {
        "id": "T8YAAPrNIPH1"
      },
      "source": [
        "# using <or> and <and>\n",
        "if a == 0 or a == 3:\n",
        "  print(\"a is either 0 or 3\")\n",
        "elif a == 1 and type(a) == int:\n",
        "  print(\"a is the integer 1\")"
      ],
      "execution_count": null,
      "outputs": []
    },
    {
      "cell_type": "markdown",
      "metadata": {
        "id": "EnzgUfnyIpwk"
      },
      "source": [
        "# for-loops"
      ]
    },
    {
      "cell_type": "code",
      "metadata": {
        "id": "6B42IC6JIk00"
      },
      "source": [
        "# loop through elements in a list, string, or numpy array\n",
        "my_string = \"abcd\"\n",
        "for i in my_string:\n",
        "  print(i)\n",
        "\n",
        "my_list = [5,4,3]\n",
        "for i in my_list:\n",
        "  print(i)\n",
        "\n",
        "my_array = np.array([0,8,7])\n",
        "for i in my_array:\n",
        "  print(i)"
      ],
      "execution_count": null,
      "outputs": []
    },
    {
      "cell_type": "code",
      "metadata": {
        "colab": {
          "base_uri": "https://localhost:8080/"
        },
        "id": "PIEX4tY_JeH2",
        "outputId": "8243d37b-4cc9-4eca-bc05-3c40b6580b5e"
      },
      "source": [
        "# loop through a range\n",
        "for i in range(0,4):\n",
        "  print(i)\n",
        "\n",
        "for i in [0,1,2,3,4]:\n",
        "  print(i)"
      ],
      "execution_count": null,
      "outputs": [
        {
          "output_type": "stream",
          "text": [
            "0\n",
            "1\n",
            "2\n",
            "3\n",
            "0\n",
            "1\n",
            "2\n",
            "3\n",
            "4\n"
          ],
          "name": "stdout"
        }
      ]
    },
    {
      "cell_type": "code",
      "metadata": {
        "id": "eaElsSLuJrKy"
      },
      "source": [
        "## * #### * #### * #### * #### * #### * #### * #### * #### * #### * #### * #### * #### * #### * ##\n",
        "# loop through a range and use it to fetch values according to their positions in a sequential datatype\n",
        "my_string = \"abcd\"\n",
        "for i in range(0, len(my_string)):\n",
        "  print(my_string[i], i)\n",
        "\n",
        "my_list = [\"a\", \"b\", \"c\"]\n",
        "for i in range(0, len(my_list)):\n",
        "  print(my_list[i], i)\n",
        "\n",
        "my_arr = np.array([5, 8, 8])\n",
        "for i in range(0, len(my_arr)):\n",
        "  print(my_arr[i], i)  \n",
        "\n",
        "\n",
        "## * #### * #### * #### * #### * #### * #### * #### * #### * #### * #### * #### * #### * #### * ##"
      ],
      "execution_count": null,
      "outputs": []
    },
    {
      "cell_type": "code",
      "metadata": {
        "colab": {
          "base_uri": "https://localhost:8080/",
          "height": 282
        },
        "id": "q8m97taoKJJ4",
        "outputId": "a58732f2-b551-4d5a-aefd-7e5fde7de957"
      },
      "source": [
        "# loop through x values to generate y values and plot\n",
        "# compute square of x\n",
        "import matplotlib.pyplot as plt\n",
        "x = [0,1,2,3,4,5]\n",
        "y = [] \n",
        "for i in x:\n",
        "  y = y + [i**2]\n",
        "plt.plot(x,y)"
      ],
      "execution_count": null,
      "outputs": [
        {
          "output_type": "execute_result",
          "data": {
            "text/plain": [
              "[<matplotlib.lines.Line2D at 0x7fbf35b99e90>]"
            ]
          },
          "metadata": {
            "tags": []
          },
          "execution_count": 31
        },
        {
          "output_type": "display_data",
          "data": {
            "image/png": "[encoded data removed]",
            "text/plain": [
              "<Figure size 432x288 with 1 Axes>"
            ]
          },
          "metadata": {
            "tags": [],
            "needs_background": "light"
          }
        }
      ]
    },
    {
      "cell_type": "code",
      "metadata": {
        "colab": {
          "base_uri": "https://localhost:8080/",
          "height": 282
        },
        "id": "rwJRihyLG4L4",
        "outputId": "7a51013c-5829-43bd-c204-0140c7744415"
      },
      "source": [
        "# another plotting example\n",
        "import math\n",
        "import numpy as np\n",
        "xs = np.zeros((100))\n",
        "ys = np.zeros((100))\n",
        "for i in range(0,100):\n",
        "  xs[i] = i\n",
        "  ys[i] = math.sqrt(i)\n",
        "\n",
        "import matplotlib.pyplot as plt\n",
        "plt.plot(xs,ys)  "
      ],
      "execution_count": null,
      "outputs": [
        {
          "output_type": "execute_result",
          "data": {
            "text/plain": [
              "[<matplotlib.lines.Line2D at 0x7fbf35670690>]"
            ]
          },
          "metadata": {
            "tags": []
          },
          "execution_count": 95
        },
        {
          "output_type": "display_data",
          "data": {
            "image/png": "[encoded data removed]",
            "text/plain": [
              "<Figure size 432x288 with 1 Axes>"
            ]
          },
          "metadata": {
            "tags": [],
            "needs_background": "light"
          }
        }
      ]
    },
    {
      "cell_type": "code",
      "metadata": {
        "colab": {
          "base_uri": "https://localhost:8080/"
        },
        "id": "INEwjLiXLLJf",
        "outputId": "e3cd6dd6-c0f3-4015-befc-2ce3aadc8999"
      },
      "source": [
        "# use a for-loop to build a string\n",
        "my_string = \"\"\n",
        "for i in range(0,50):\n",
        "  my_string = my_string + \"a\"\n",
        "print(my_string)"
      ],
      "execution_count": null,
      "outputs": [
        {
          "output_type": "stream",
          "text": [
            "aaaaaaaaaaaaaaaaaaaaaaaaaaaaaaaaaaaaaaaaaaaaaaaaaa\n"
          ],
          "name": "stdout"
        }
      ]
    },
    {
      "cell_type": "code",
      "metadata": {
        "colab": {
          "base_uri": "https://localhost:8080/"
        },
        "id": "l1Sd7FHrLiMb",
        "outputId": "2d724875-9363-4f5c-d782-258018f9a460"
      },
      "source": [
        "## * #### * #### * #### * #### * #### * #### * #### * #### * #### * #### * #### * ##\n",
        "\n",
        "# use nested for-loops to update values in an empty matrix\n",
        "my_mat = np.zeros((5,5))\n",
        "print(my_mat)\n",
        "for i in range(0, len(my_mat)):\n",
        "  for j in range(0, len(my_mat)):\n",
        "    my_mat[i,j] = 4\n",
        "    # print(my_mat)\n",
        "print(my_mat)\n",
        "\n",
        "## * #### * #### * #### * #### * #### * #### * #### * #### * #### * #### * #### * ##"
      ],
      "execution_count": null,
      "outputs": [
        {
          "output_type": "stream",
          "text": [
            "[[0. 0. 0. 0. 0.]\n",
            " [0. 0. 0. 0. 0.]\n",
            " [0. 0. 0. 0. 0.]\n",
            " [0. 0. 0. 0. 0.]\n",
            " [0. 0. 0. 0. 0.]]\n",
            "[[4. 4. 4. 4. 4.]\n",
            " [4. 4. 4. 4. 4.]\n",
            " [4. 4. 4. 4. 4.]\n",
            " [4. 4. 4. 4. 4.]\n",
            " [4. 4. 4. 4. 4.]]\n"
          ],
          "name": "stdout"
        }
      ]
    },
    {
      "cell_type": "code",
      "metadata": {
        "colab": {
          "base_uri": "https://localhost:8080/"
        },
        "id": "ZTz8zFT0CkEn",
        "outputId": "89ad1b20-c015-455d-b06b-a4ed4efb0d2e"
      },
      "source": [
        "# using an array of zeros and a loop to add new data to array\n",
        "import random\n",
        "my_array = np.zeros(5)\n",
        "print(my_array)\n",
        "for i in range(0, len(my_array)):\n",
        "  my_array[i] = random.random()\n",
        "print(my_array)  "
      ],
      "execution_count": null,
      "outputs": [
        {
          "output_type": "stream",
          "text": [
            "[0. 0. 0. 0. 0.]\n",
            "[0.10923687 0.01895482 0.72485858 0.39289945 0.18156714]\n"
          ],
          "name": "stdout"
        }
      ]
    },
    {
      "cell_type": "code",
      "metadata": {
        "colab": {
          "base_uri": "https://localhost:8080/"
        },
        "id": "1bFF7TltL2G7",
        "outputId": "850f1198-b110-4282-9442-04332f778b6d"
      },
      "source": [
        "## * #### * #### * #### * #### * #### * #### * #### * #### * #### * #### * #### * #### * ##\n",
        "\n",
        "# combine a for-loop with a conditional statement to search for things\n",
        "my_list = [1,3,5,7,4,3,7,4,2,5,7]\n",
        "for i in range(0, len(my_list)):\n",
        "  if my_list[i] == 7:\n",
        "    print(\"we found a 7 at position: \", i)\n",
        "\n",
        "## * #### * #### * #### * #### * #### * #### * #### * #### * #### * #### * #### * #### * ##"
      ],
      "execution_count": null,
      "outputs": [
        {
          "output_type": "stream",
          "text": [
            "we found a 7 at position:  3\n",
            "we found a 7 at position:  6\n",
            "we found a 7 at position:  10\n"
          ],
          "name": "stdout"
        }
      ]
    },
    {
      "cell_type": "markdown",
      "metadata": {
        "id": "SCHK83S9MZF4"
      },
      "source": [
        "# indexing in sequential datatypes (strings, numpy arrays, and lists)"
      ]
    },
    {
      "cell_type": "code",
      "metadata": {
        "colab": {
          "base_uri": "https://localhost:8080/"
        },
        "id": "5G2AcEuLMIZi",
        "outputId": "ef6b0ebc-09f5-4b4b-8769-59da7e0ac21b"
      },
      "source": [
        "# fetch the value stored at a particular index\n",
        "my_list = [0,0,-1,0,0]\n",
        "print(my_list[2])\n",
        "\n",
        "my_array = np.array([0,0,-1,0,0])\n",
        "print(my_array[2])\n",
        "\n",
        "my_string = \"abcdef\"\n",
        "print(my_string[2])"
      ],
      "execution_count": null,
      "outputs": [
        {
          "output_type": "stream",
          "text": [
            "-1\n",
            "-1\n",
            "c\n"
          ],
          "name": "stdout"
        }
      ]
    },
    {
      "cell_type": "code",
      "metadata": {
        "colab": {
          "base_uri": "https://localhost:8080/"
        },
        "id": "6vsK5U3ZMw-N",
        "outputId": "9707a03b-50f3-44de-f038-2afc59a2033f"
      },
      "source": [
        "# fetch a range of values by supplying the start and end indices\n",
        "my_list = [0,0,-1,0,0]\n",
        "print(my_list[2:4])\n",
        "\n",
        "my_array = np.array([0,0,-1,0,0])\n",
        "print(my_array[1:2])\n",
        "\n",
        "my_string = \"abcdef\"\n",
        "print(my_string[3:5])"
      ],
      "execution_count": null,
      "outputs": [
        {
          "output_type": "stream",
          "text": [
            "[-1, 0]\n",
            "[0]\n",
            "de\n"
          ],
          "name": "stdout"
        }
      ]
    },
    {
      "cell_type": "code",
      "metadata": {
        "colab": {
          "base_uri": "https://localhost:8080/"
        },
        "id": "H1S3TktNNE3_",
        "outputId": "9dbe33c5-28aa-4675-92fe-b353e1dc8863"
      },
      "source": [
        "# fetch a range of values by just supplying the stopping point (beginning assumed to be 0)\n",
        "my_list = [0,0,-1,0,0]\n",
        "print(my_list[:4])\n",
        "print(my_list[2:])\n",
        "print(my_list[:])\n",
        "\n",
        "my_array = np.array([0,0,-1,0,0])\n",
        "print(my_array[:2])\n",
        "\n",
        "my_string = \"abcdef\"\n",
        "print(my_string[:5])"
      ],
      "execution_count": null,
      "outputs": [
        {
          "output_type": "stream",
          "text": [
            "[0, 0, -1, 0]\n",
            "[-1, 0, 0]\n",
            "[0, 0, -1, 0, 0]\n",
            "[0 0]\n",
            "abcde\n"
          ],
          "name": "stdout"
        }
      ]
    },
    {
      "cell_type": "code",
      "metadata": {
        "colab": {
          "base_uri": "https://localhost:8080/"
        },
        "id": "-mJcmsdlNLVk",
        "outputId": "717aae16-7464-4c1c-d27d-6a2bfadf25f7"
      },
      "source": [
        "# index from the end or get the last value using a minus sign\n",
        "my_list = [0,0,-1,0,0]\n",
        "print(my_list[-1])\n",
        "\n",
        "my_array = np.array([0,0,-1,0,0])\n",
        "print(my_array[-3])\n",
        "\n",
        "my_string = \"abcdef\"\n",
        "print(my_string[0:-2])"
      ],
      "execution_count": null,
      "outputs": [
        {
          "output_type": "stream",
          "text": [
            "0\n",
            "-1\n",
            "abcd\n"
          ],
          "name": "stdout"
        }
      ]
    },
    {
      "cell_type": "code",
      "metadata": {
        "colab": {
          "base_uri": "https://localhost:8080/"
        },
        "id": "0Tdbxy41NWGD",
        "outputId": "fc939e03-703c-4c24-9a97-9255d5b29dac"
      },
      "source": [
        "# reverse the order\n",
        "my_list = [0,0,-1,0,0,9]\n",
        "print(my_list[::-1])\n",
        "\n",
        "my_array = np.array([0,0,-1,0,0,9])\n",
        "print(my_array[::-1])\n",
        "\n",
        "my_string = \"abcdef\"\n",
        "print(my_string[::-1])"
      ],
      "execution_count": null,
      "outputs": [
        {
          "output_type": "stream",
          "text": [
            "[9, 0, 0, -1, 0, 0]\n",
            "[ 9  0  0 -1  0  0]\n",
            "fedcba\n"
          ],
          "name": "stdout"
        }
      ]
    },
    {
      "cell_type": "markdown",
      "metadata": {
        "id": "NyMb8vSDPB1m"
      },
      "source": [
        "# indexing with higher dimensional datatypes"
      ]
    },
    {
      "cell_type": "code",
      "metadata": {
        "colab": {
          "base_uri": "https://localhost:8080/"
        },
        "id": "aegERjjLPucW",
        "outputId": "56de6968-af75-4362-9e84-7e713149a458"
      },
      "source": [
        "my_mat = np.array([[15,26,34,35],[10,12,15,28], [99,88,77,100]])\n",
        "print(my_mat)"
      ],
      "execution_count": null,
      "outputs": [
        {
          "output_type": "stream",
          "text": [
            "[[ 15  26  34  35]\n",
            " [ 10  12  15  28]\n",
            " [ 99  88  77 100]]\n"
          ],
          "name": "stdout"
        }
      ]
    },
    {
      "cell_type": "code",
      "metadata": {
        "colab": {
          "base_uri": "https://localhost:8080/"
        },
        "id": "RqZ-GNFgPgQq",
        "outputId": "1d7e2e7a-3245-4f33-b465-960346584534"
      },
      "source": [
        "# fetching the item stored in row 1 column 3\n",
        "my_mat = np.array([[15,26,34,35],[10,12,15,28], [99,88,77,100]])\n",
        "my_mat[1,3]"
      ],
      "execution_count": null,
      "outputs": [
        {
          "output_type": "execute_result",
          "data": {
            "text/plain": [
              "28"
            ]
          },
          "metadata": {
            "tags": []
          },
          "execution_count": 58
        }
      ]
    },
    {
      "cell_type": "code",
      "metadata": {
        "colab": {
          "base_uri": "https://localhost:8080/"
        },
        "id": "cqupMEP_NkQh",
        "outputId": "50f174a1-3c64-40bb-d29f-6632a1d9626b"
      },
      "source": [
        "# fetch all items in row 1\n",
        "# numparray[r,c] Roman Centurion\n",
        "my_mat = np.array([[15,26,34,35],[10,12,15,28], [99,88,77,100]])\n",
        "my_mat[1,:]"
      ],
      "execution_count": null,
      "outputs": [
        {
          "output_type": "execute_result",
          "data": {
            "text/plain": [
              "array([10, 12, 15, 28])"
            ]
          },
          "metadata": {
            "tags": []
          },
          "execution_count": 53
        }
      ]
    },
    {
      "cell_type": "code",
      "metadata": {
        "colab": {
          "base_uri": "https://localhost:8080/"
        },
        "id": "Rbv8ZqruPbEi",
        "outputId": "04207f5a-b48f-41e5-acdc-f5b082561bd6"
      },
      "source": [
        "# fetch all items in column 1\n",
        "my_mat = np.array([[15,26,34,35],[10,12,15,28], [99,88,77,100]])\n",
        "my_mat[:,1]"
      ],
      "execution_count": null,
      "outputs": [
        {
          "output_type": "execute_result",
          "data": {
            "text/plain": [
              "array([26, 12, 88])"
            ]
          },
          "metadata": {
            "tags": []
          },
          "execution_count": 106
        }
      ]
    },
    {
      "cell_type": "code",
      "metadata": {
        "colab": {
          "base_uri": "https://localhost:8080/"
        },
        "id": "DnVvHMUbPyFV",
        "outputId": "dd2a9e3e-29c2-4b76-d582-d6a714bd2ed1"
      },
      "source": [
        "# fetching an item from a list within a list\n",
        "my_list = [[11,44,66],[77,55,33]]\n",
        "my_sub_list = my_list[1]\n",
        "my_element = my_sub_list[2]\n",
        "print(my_list[1][2], my_element)"
      ],
      "execution_count": null,
      "outputs": [
        {
          "output_type": "stream",
          "text": [
            "33 33\n"
          ],
          "name": "stdout"
        }
      ]
    },
    {
      "cell_type": "code",
      "metadata": {
        "id": "6eBk2rVPQAd5"
      },
      "source": [
        ""
      ],
      "execution_count": null,
      "outputs": []
    }
  ]
}