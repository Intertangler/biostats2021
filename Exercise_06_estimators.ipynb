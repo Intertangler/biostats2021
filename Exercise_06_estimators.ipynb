{
  "nbformat": 4,
  "nbformat_minor": 0,
  "metadata": {
    "colab": {
      "name": "Exercise_06_estimators.ipynb",
      "provenance": [],
      "collapsed_sections": [],
      "authorship_tag": "ABX9TyP7LfdliOBZ6M0yIYqDdgKb",
      "include_colab_link": true
    },
    "kernelspec": {
      "name": "python3",
      "display_name": "Python 3"
    },
    "language_info": {
      "name": "python"
    }
  },
  "cells": [
    {
      "cell_type": "markdown",
      "metadata": {
        "id": "view-in-github",
        "colab_type": "text"
      },
      "source": [
        "<a href=\"https://colab.research.google.com/github/Intertangler/biostats2021/blob/main/Exercise_06_estimators.ipynb\" target=\"_parent\"><img src=\"https://colab.research.google.com/assets/colab-badge.svg\" alt=\"Open In Colab\"/></a>"
      ]
    },
    {
      "cell_type": "markdown",
      "metadata": {
        "id": "aBuM-k4LVctb"
      },
      "source": [
        "# Problem 6.1 \n",
        "Make a function that computes the estimator for standard deviation, making use of Bessel's correction (N - 1). "
      ]
    },
    {
      "cell_type": "code",
      "metadata": {
        "id": "zYVP9ZMYVtA3"
      },
      "source": [
        "data = [1,43,6,45,23,65,687,45,23]\n",
        "\n",
        "def std_est(my_data):\n",
        "\n",
        "  #your code here\n",
        "  return my_std_est\n",
        "\n",
        "std_est(data)"
      ],
      "execution_count": null,
      "outputs": []
    },
    {
      "cell_type": "markdown",
      "metadata": {
        "id": "t3WocKXGZtFx"
      },
      "source": [
        "## Generating the t-distribution\n",
        "\n",
        "Below we have a function based on the scipy.stats library for computing the confidence interval with a student's t-distribution."
      ]
    },
    {
      "cell_type": "code",
      "metadata": {
        "id": "sCmktyvvaHzQ"
      },
      "source": [
        "from scipy.stats import t\n",
        "import numpy as np\n",
        "import scipy\n",
        "\n",
        "def get_interval(data, std_est, alpha=0.95):\n",
        "  interval = scipy.stats.t.interval(alpha=alpha, df=len(data)-1, loc=np.mean(data), scale=std_est) \n",
        "  return interval"
      ],
      "execution_count": 32,
      "outputs": []
    },
    {
      "cell_type": "markdown",
      "metadata": {
        "id": "gzGj0ecCWnoa"
      },
      "source": [
        "# Problem 6.2\n",
        "\n",
        "A vitamin D level below 12 ng/mL is considered deficient. The dataset below contains the blood vitamin D levels of an individual measured at multiple different times. We do not know the spread of possible vitamin D levels. What is our 95% confidence limit on the person's mean vitamin D level? Can we say whether the patient has normal vitamin D levels?"
      ]
    },
    {
      "cell_type": "code",
      "metadata": {
        "id": "sjj8TGSCWUcQ"
      },
      "source": [
        "vit_D_data = [12.5, 13.1,11.2,25.3,19.3,28.3,14.2,22.5,13.2,26.3,12.4,22.4,21.1]\n",
        "\n",
        "# your code here\n",
        "\n",
        "print(meanD, get_interval(vit_D_data,sem, alpha=0.95))\n",
        "\n"
      ],
      "execution_count": null,
      "outputs": []
    }
  ]
}