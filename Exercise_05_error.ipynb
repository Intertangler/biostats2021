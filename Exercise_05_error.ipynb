{
  "nbformat": 4,
  "nbformat_minor": 0,
  "metadata": {
    "colab": {
      "name": "Exercise_05_error.ipynb",
      "provenance": [],
      "collapsed_sections": [],
      "authorship_tag": "ABX9TyMYM2iAbiq+gf+ESS+gb2ue",
      "include_colab_link": true
    },
    "kernelspec": {
      "name": "python3",
      "display_name": "Python 3"
    },
    "language_info": {
      "name": "python"
    }
  },
  "cells": [
    {
      "cell_type": "markdown",
      "metadata": {
        "id": "view-in-github",
        "colab_type": "text"
      },
      "source": [
        "<a href=\"https://colab.research.google.com/github/Intertangler/biostats2021/blob/main/Exercise_05_error.ipynb\" target=\"_parent\"><img src=\"https://colab.research.google.com/assets/colab-badge.svg\" alt=\"Open In Colab\"/></a>"
      ]
    },
    {
      "cell_type": "markdown",
      "metadata": {
        "id": "QfYS905FnnQ4"
      },
      "source": [
        "# computational demo of the central limit theorem\n",
        "Let's say we are measuring the volume of liquid using a pipette. There are several independent variables that lead to error. For example: the temperature, the amount of dust in the pipette, the taper of the pipette tip, the loss of droplets on the walls of the pipette, etc etc.\n",
        "\n",
        "Below, we demonstrate the CLT by summing independent random values from -1 to 1. Observe the emergence of the Gaussian distribution by increasing the number of variables that get summed. "
      ]
    },
    {
      "cell_type": "code",
      "metadata": {
        "colab": {
          "base_uri": "https://localhost:8080/",
          "height": 265
        },
        "id": "cP2u76OyoIZv",
        "outputId": "42ae1ce9-d22b-4adf-81b4-11e0c808745e"
      },
      "source": [
        "import random\n",
        "import matplotlib.pyplot as plt \n",
        "\n",
        "number_of_measuremts = 100000\n",
        "number_of_error_variables = 1 # modify this line to add more independent variables\n",
        "\n",
        "data = []\n",
        "for measurement in range(number_of_measuremts):\n",
        "  sum_variables = 0\n",
        "  for i in range(number_of_error_variables):\n",
        "    variable_value = random.uniform(-1,1)\n",
        "    sum_variables += variable_value\n",
        "  data += [sum_variables]\n",
        "\n",
        "plt.hist(data, bins=\"auto\")\n",
        "plt.show()"
      ],
      "execution_count": 1,
      "outputs": [
        {
          "output_type": "display_data",
          "data": {
            "image/png": "[encoded data removed]",
            "text/plain": [
              "<Figure size 432x288 with 1 Axes>"
            ]
          },
          "metadata": {
            "needs_background": "light"
          }
        }
      ]
    },
    {
      "cell_type": "markdown",
      "metadata": {
        "id": "PbWbF83i6szA"
      },
      "source": [
        "# Problem 5.1 standard error of the mean\n",
        "Write your own function to compute the standard error of the mean from a dataset input. \n",
        "\n",
        "The code below will auto-generate a random dataset of mass values. Anayze the datasets produced - what tends to happen as you increase the number of datapoints?"
      ]
    },
    {
      "cell_type": "code",
      "metadata": {
        "id": "ISCtHM9w6yfP",
        "colab": {
          "base_uri": "https://localhost:8080/",
          "height": 299
        },
        "outputId": "41feec6d-17d1-4eaf-f681-93233036c78a"
      },
      "source": [
        "import numpy as np\n",
        "import math\n",
        "\n",
        "def sem(my_data):\n",
        "  #your code here\n",
        "  return my_sem\n",
        "\n",
        "repeats = 50\n",
        "true_mean = 12\n",
        "sample_size_N = 5\n",
        "mass_data = []\n",
        "for measurement in range(sample_size_N):\n",
        "  mass_meas = np.random.normal(loc=true_mean, scale=1.2, size=None)\n",
        "  mass_data += [mass_meas]\n",
        "\n",
        "print(sem(mass_data))\n",
        "\n",
        "# optional analysis and plot of SEM with different sample sizes N"
      ],
      "execution_count": 35,
      "outputs": [
        {
          "output_type": "stream",
          "name": "stdout",
          "text": [
            "1.0391024009107053\n"
          ]
        },
        {
          "output_type": "execute_result",
          "data": {
            "text/plain": [
              "[<matplotlib.lines.Line2D at 0x7f4c0b6f1810>]"
            ]
          },
          "metadata": {},
          "execution_count": 35
        },
        {
          "output_type": "display_data",
          "data": {
            "image/png": "[encoded data removed]",
            "text/plain": [
              "<Figure size 432x288 with 1 Axes>"
            ]
          },
          "metadata": {
            "needs_background": "light"
          }
        }
      ]
    },
    {
      "cell_type": "markdown",
      "metadata": {
        "id": "IZ1STFG6iVb-"
      },
      "source": [
        "# measurement error\n",
        "In experimental sciences, it is very common to estimate the concentrations of dissolved chemicals using absorbance spectroscopy or spectrophotometry. I.e. the darker the solution, the more solute is present in it. This technique can be used to measure how much DNA is dissolved in water, since DNA absorbs UV light at a wavelength of 260 nm.\n",
        "\n",
        "In a typical absorbance spectroscopy experiment, concentration is calculated using the Beer-Lambert equation:\n",
        "\n",
        "$c = \\frac{A}{\\epsilon l}$ where A is the absorbance (the fraction of light that is able to pass through the sample relative to the source light), $\\epsilon$ is a molar extinction coefficient equal to (0.027 (μg/ml)^−1^cm−1 in the case of single stranded DNA, and $l$ is the pathlength or distance that the light has to travel through the sample. \n",
        "\n",
        "The code below will generate a dataset of absorbance measurements and pathlength measurements."
      ]
    },
    {
      "cell_type": "code",
      "metadata": {
        "id": "BmzIcm5y74QD"
      },
      "source": [
        "### run this block of code ###\n",
        "import os.path\n",
        "import sys\n",
        "from os import path\n",
        "import numpy as np\n",
        "\n",
        "if path.exists(\"/content/biostats2021/\"):\n",
        "    pass\n",
        "else:\n",
        "    !git clone https://github.com/Intertangler/biostats2021.git\n",
        "sys.path.insert(0,'/content')\n",
        "data = np.loadtxt('/content/biostats2021/absorbance.txt')\n",
        "\n",
        "experiments = 100 \n",
        "extinction_coeff = 0.027 # (μg/ml)^−1^cm−1\n",
        "\n",
        "### data generator - do not modify ###\n",
        "abs_data = [] # absorbance\n",
        "pathl_data = [] # cm\n",
        "for experiment in range(experiments):\n",
        "  abs_data += [max(0,np.random.normal(loc=data[0], scale=0.01198273, size=None))]\n",
        "  pathl_data += [max(0,np.random.normal(loc=data[1], scale=0.1354, size=None))]"
      ],
      "execution_count": 71,
      "outputs": []
    },
    {
      "cell_type": "markdown",
      "metadata": {
        "id": "B_vbTRNZ-PhZ"
      },
      "source": [
        "# Problem 5.2 measurement\n",
        "Examine the abs_data object that has been generated above - this is our absorbance data. \n",
        "\n",
        "Compute the sample mean and standard deviation. Do the same for the pathlength data pathl_data.\n",
        "\n",
        "Compute the mean concentration using the Beer Lambert formula and the mean values of absorbance and pathlength, as well as the extinction coefficient for DNA. "
      ]
    },
    {
      "cell_type": "code",
      "metadata": {
        "id": "NSrLx3CNoyEQ"
      },
      "source": [
        "# your code here\n",
        "\n",
        "print(mean_conc, \"μg\")"
      ],
      "execution_count": null,
      "outputs": []
    },
    {
      "cell_type": "markdown",
      "metadata": {
        "id": "qEqwcpPbCJsN"
      },
      "source": [
        "Now we want to know the uncertainty of the force that we got from our calculation. To do this, we employ the law of combination of errors, also known as the error propagation method.\n",
        "\n",
        "Error propagation formula:\n",
        "\n",
        "$\\sigma_C = ((\\frac{dC}{dl})^2\\sigma_l^2 + (\\frac{dC}{dA})^2\\sigma_A^2)$ \n",
        "\n",
        "$C = \\frac{A}{\\epsilon l}$\n",
        "\n",
        "$\\frac{dC}{dl} = \\frac{d}{dl}C = \\frac{d}{dl}(\\frac{A}{\\epsilon l}) = -\\frac{A}{\\epsilon l^2}$\n",
        "\n",
        "$\\frac{dC}{dA} = \\frac{d}{dA}C = \\frac{d}{dA}(\\frac{A}{\\epsilon l}) = \\frac{1}{\\epsilon l}$\n",
        "\n",
        "$\\sigma_C = ((-\\frac{A}{\\epsilon l^2})^2\\sigma_l^2 + (\\frac{1}{\\epsilon l})^2\\sigma_A^2)^{1/2}$ \n",
        "\n",
        "Compute the standard deviation now for the concentration with the formula above. "
      ]
    },
    {
      "cell_type": "code",
      "metadata": {
        "id": "VMiHAT5Befq1"
      },
      "source": [
        "std_conc = \"your code here\"\n",
        "\n",
        "\n",
        "print(\"concentration = \", mean_conc, \" ± \", std_conc, \" μg\")"
      ],
      "execution_count": null,
      "outputs": []
    }
  ]
}