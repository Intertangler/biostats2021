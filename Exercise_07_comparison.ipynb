{
  "nbformat": 4,
  "nbformat_minor": 0,
  "metadata": {
    "colab": {
      "name": "Exercise_07_comparison.ipynb",
      "provenance": [],
      "collapsed_sections": [],
      "authorship_tag": "ABX9TyNS+988X4FxCcFJE4TRwquq",
      "include_colab_link": true
    },
    "kernelspec": {
      "name": "python3",
      "display_name": "Python 3"
    },
    "language_info": {
      "name": "python"
    }
  },
  "cells": [
    {
      "cell_type": "markdown",
      "metadata": {
        "id": "view-in-github",
        "colab_type": "text"
      },
      "source": [
        "<a href=\"https://colab.research.google.com/github/Intertangler/biostats2021/blob/main/Exercise_07_comparison.ipynb\" target=\"_parent\"><img src=\"https://colab.research.google.com/assets/colab-badge.svg\" alt=\"Open In Colab\"/></a>"
      ]
    },
    {
      "cell_type": "code",
      "metadata": {
        "id": "hmbK3GOtit3c"
      },
      "source": [
        "import math\n",
        "import numpy as np\n",
        "import scipy.stats as sp\n",
        "import matplotlib.pyplot as plt\n",
        "\n",
        "def tdist(tscore, df):\n",
        "  f = sp.t.pdf(tscore, df)\n",
        "  return f\n",
        "\n",
        "def compute_integral(N_bins, interval, df):\n",
        "  a = -1*interval\n",
        "  b = interval\n",
        "  dx = (a - b)/N_bins\n",
        "  area = 0\n",
        "  for x in np.linspace(a, b, N_bins):\n",
        "    area += np.abs(dx*tdist(x, df))\n",
        "  return(area)"
      ],
      "execution_count": 29,
      "outputs": []
    },
    {
      "cell_type": "markdown",
      "metadata": {
        "id": "6b9jVw1cn8Tn"
      },
      "source": [
        "# getting the critical t automatically\n",
        "Below we have a function which will save you some time - instead of generating the table of tdistribution integrals and then having to look up the critical t value for a given confidence and degrees of freedom each time, this function will perform the lookup for you -giving an approximate tcrit for your choice of confidence and df."
      ]
    },
    {
      "cell_type": "code",
      "metadata": {
        "id": "04yogX9YkHOh"
      },
      "source": [
        "def get_t_crit(confidence, df):\n",
        "  tstats = np.linspace(1.5, 2.5, 50)\n",
        "  integrals = []\n",
        "  for tstatistic in tstats:\n",
        "    integrals += [compute_integral(N_bins = 1000, interval = tstatistic, df = df)]\n",
        "  lookup = np.where(np.array(integrals) >= confidence)[0][0]\n",
        "  return tstats[lookup]"
      ],
      "execution_count": 35,
      "outputs": []
    },
    {
      "cell_type": "code",
      "metadata": {
        "colab": {
          "base_uri": "https://localhost:8080/"
        },
        "id": "0UQBSp8klCdI",
        "outputId": "b6d3bf3f-d63e-4d3a-ead1-d822a7abbd6f"
      },
      "source": [
        "print(get_t_crit(.95, 15))"
      ],
      "execution_count": 32,
      "outputs": [
        {
          "output_type": "stream",
          "name": "stdout",
          "text": [
            "2.1530612244897958\n"
          ]
        }
      ]
    },
    {
      "cell_type": "markdown",
      "metadata": {
        "id": "OJp5gIRRmXOj"
      },
      "source": [
        "# Problem 7.1\n",
        "Write a function that performs the t-test for two samples with a single unknown standard deviation. Use the tcrit-fetching function from above. Compute alongside it the t value for the null hypothesis that µ1 = µ2. \n",
        "\n",
        "To help, the datasets from the example in the slides are given here to test your function out with:"
      ]
    },
    {
      "cell_type": "code",
      "metadata": {
        "id": "_iLtJgO3i2IE",
        "colab": {
          "base_uri": "https://localhost:8080/"
        },
        "outputId": "5115722d-079d-4ff9-8406-45072372bc9e"
      },
      "source": [
        "data_1 = [39, 18, 3, 22, 24, 29, 22, 22, 27, 28, 23, 48]\n",
        "data_2 = [42, 23, 36, 35, 38, 42, 33]\n",
        "\n",
        "def t_test(data_1, data_2):\n",
        "  # your code here\n",
        "  return tcrit, t\n",
        "\n",
        "print(t_test(data_1, data_2))"
      ],
      "execution_count": 42,
      "outputs": [
        {
          "output_type": "stream",
          "name": "stdout",
          "text": [
            "(2.13265306122449, -2.221365243603984)\n"
          ]
        }
      ]
    },
    {
      "cell_type": "code",
      "metadata": {
        "id": "gvCVJRmZny7-"
      },
      "source": [
        ""
      ],
      "execution_count": null,
      "outputs": []
    }
  ]
}