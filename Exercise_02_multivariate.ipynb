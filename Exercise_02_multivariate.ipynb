{
  "nbformat": 4,
  "nbformat_minor": 0,
  "metadata": {
    "colab": {
      "name": "Exercise_02_multivariate.ipynb",
      "provenance": [],
      "collapsed_sections": [],
      "authorship_tag": "ABX9TyOi9Gg5zhU5PmYatzrJlKUB",
      "include_colab_link": true
    },
    "kernelspec": {
      "name": "python3",
      "display_name": "Python 3"
    },
    "language_info": {
      "name": "python"
    }
  },
  "cells": [
    {
      "cell_type": "markdown",
      "metadata": {
        "id": "view-in-github",
        "colab_type": "text"
      },
      "source": [
        "<a href=\"https://colab.research.google.com/github/Intertangler/biostats2021/blob/main/Exercise_02_multivariate.ipynb\" target=\"_parent\"><img src=\"https://colab.research.google.com/assets/colab-badge.svg\" alt=\"Open In Colab\"/></a>"
      ]
    },
    {
      "cell_type": "markdown",
      "metadata": {
        "id": "fcG1JOASAhUT"
      },
      "source": [
        "An environmental chemical suspected of causing harm to aquatic organisms chemical \"X\" is measured (ppm) simultaneously with organisms sampled for RNA-sequencing. The expression levels in transcript per kilobase million (TPM) for three genes of interest, A, B, and C are examined for each sampled organism. We want to know if there is any relationship between the environmental levels of chemical X and the expression of these genes.\n",
        "\n",
        "Below we have the four ordered datasets (ppm of chemical X, and expression levels of A B and C genes) that are linked - i.e. each point in one dataset corresponds to a point at the same position in each of the other datasets. "
      ]
    },
    {
      "cell_type": "code",
      "metadata": {
        "id": "-xi_NPNWhIJM"
      },
      "source": [
        "X = [13.1,16.2,14,15.6,15.8,19.1,21.5,21.3,10.5,14.1,13.1,13.2,15.1,19,22.5,34,32,26.4,28.9,33.5,38,29.5,26.7,39.4,33.5,59,48,43,53,44,42,56,60,66,72,59,55]\n",
        "A = [953,803,801,775,663,553,991,893,775,746,667,899,901,1003,859,665,554,456,601,432,488,399,504,515,419,103,98,89,15,46,92,105,201,344,55,68,92]\n",
        "B = [443,553,223,415,332,119,225,384,445,199,208,301,201,109,68,602,501,459,489,486,425,525,601,604,489,775,805,667,668,632,648,752,725,808,900,845,750]\n",
        "C = [23,86,55,68,105,43,39,19,97,76,64,59,15,55,45,55,19,86,25,48,95,48,15,78,43,55,76,64,25,32,34,38,19,25,109,48,52]"
      ],
      "execution_count": 4,
      "outputs": []
    },
    {
      "cell_type": "markdown",
      "metadata": {
        "id": "bvkdA_AOEZRO"
      },
      "source": [
        "We can use numpy's correlation coefficient and covariance functions to immediately get our answer:"
      ]
    },
    {
      "cell_type": "code",
      "metadata": {
        "id": "eFbEo9Cshee2"
      },
      "source": [
        "import numpy as np\n",
        "print(np.corrcoef([X,A,B,C]),\"\\n \\n\",np.cov([X,A,B,C]))"
      ],
      "execution_count": null,
      "outputs": []
    },
    {
      "cell_type": "markdown",
      "metadata": {
        "id": "Vc0NgnRuEjX9"
      },
      "source": [
        "# Problem 2.1 \n",
        "Define your own covariance and correlation computing functions for a pair of input datasets. Then test each of the possible pairings of datasets, X with A, X with B, B with A, etc...\n",
        "\n",
        "## extra challenge\n",
        "Define a function that generates the covariance and correlation coefficient matrices like the numpy versions above.\n",
        "\n",
        "## discussion\n",
        "What do you conclude about the data? Is chemical X level correlated with any of the genes and to what extent if so, negitively or positively? Is there a need for a \"control\" sample here? What can we say about the relationship between the genes in the absence of chemical X? Do scatter plots of the data agree with your conclusion?"
      ]
    },
    {
      "cell_type": "code",
      "metadata": {
        "id": "IjfQYCsAhxIX"
      },
      "source": [
        "def cov(X, Y):\n",
        "  #your code here\n",
        "  return cov\n",
        "\n",
        "def corr(X, Y):\n",
        "  #your code here\n",
        "  return corr"
      ],
      "execution_count": null,
      "outputs": []
    },
    {
      "cell_type": "code",
      "metadata": {
        "colab": {
          "base_uri": "https://localhost:8080/"
        },
        "id": "BCBBgcdXjedH",
        "outputId": "415d908e-ae79-4ae9-a488-d503abea308c"
      },
      "source": [
        "print(cov(A,X), corr(A,X))"
      ],
      "execution_count": null,
      "outputs": [
        {
          "output_type": "stream",
          "name": "stdout",
          "text": [
            "-4780.2796932067195 -0.8652099465673597\n"
          ]
        }
      ]
    },
    {
      "cell_type": "code",
      "metadata": {
        "id": "Ac2ERM5Qj-zX"
      },
      "source": [
        "data = np.array([X,A,B,C])\n",
        "\n",
        "def cov_cor_mat(data):\n",
        "  #your code here\n",
        "  return cov_mat, cor_mat\n",
        "\n",
        "cov, cor = cov_cor_mat(data)\n",
        "import matplotlib.pyplot as plt\n",
        "plt.imshow(cov, cmap=\"coolwarm\")\n",
        "plt.show()\n",
        "plt.close()\n",
        "\n",
        "plt.imshow(cor, cmap=\"coolwarm\")\n",
        "plt.show()\n",
        "plt.close()"
      ],
      "execution_count": null,
      "outputs": []
    }
  ]
}